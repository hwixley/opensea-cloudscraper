{
 "cells": [
  {
   "cell_type": "code",
   "execution_count": 1,
   "id": "ba186508",
   "metadata": {},
   "outputs": [],
   "source": [
    "import cloudscraper as cs\n",
    "import bs4\n",
    "import json\n",
    "import datetime\n",
    "import pickle\n",
    "import os"
   ]
  },
  {
   "cell_type": "code",
   "execution_count": null,
   "id": "9f87d87f",
   "metadata": {},
   "outputs": [],
   "source": [
    "url = \"https://api.opensea.io/api/v1/assets\"\n",
    "\n",
    "for i in range(0, 400):\n",
    "    headers = {'User-Agent': 'Mozilla/5.0 (X11; Linux x86_64) AppleWebKit/537.36 (KHTML, like Gecko) Chrome/97.0.4692.71 Safari/537.36','referrer':url, \"X-Api-Key\": \"958b4a41edf5439da174927c48faff89\", config[\"OPENSEA_API_KEY\"]}\n",
    "    querystring = {\"token_ids\":list(range((i*50)+1, (i*50)+51)),\n",
    "                   \"asset_contract_address\":\"0x7Bd29408f11D2bFC23c34f18275bBf23bB716Bc7\",\n",
    "                   \"order_direction\":\"desc\",\n",
    "                   \"offset\":\"0\",\n",
    "                   \"limit\":\"50\"}\n",
    "    response = requests.get(url, params=querystring, headers=headers)\n",
    "    \n",
    "    print(i, end=\" \")\n",
    "    if response.status_code != 200:\n",
    "        print(response.status_code)\n",
    "        print('error')\n",
    "        break\n",
    "    \n",
    "    #Getting meebits data\n",
    "    meebits = response.json()['assets']\n",
    "    #Parsing meebits data\n",
    "    parsed_meebits = [parse_meebit_data(meebit) for meebit in meebits]\n",
    "    #storing parsed meebits data into MongoDB\n",
    "    meebits_collection.insert_many(parsed_meebits)"
   ]
  }
 ],
 "metadata": {
  "kernelspec": {
   "display_name": "Python 3 (ipykernel)",
   "language": "python",
   "name": "python3"
  },
  "language_info": {
   "codemirror_mode": {
    "name": "ipython",
    "version": 3
   },
   "file_extension": ".py",
   "mimetype": "text/x-python",
   "name": "python",
   "nbconvert_exporter": "python",
   "pygments_lexer": "ipython3",
   "version": "3.9.7"
  }
 },
 "nbformat": 4,
 "nbformat_minor": 5
}
